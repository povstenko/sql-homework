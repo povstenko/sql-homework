{
    "metadata": {
        "kernelspec": {
            "name": "SQL",
            "display_name": "SQL",
            "language": "sql"
        },
        "language_info": {
            "name": "sql",
            "version": ""
        }
    },
    "nbformat_minor": 2,
    "nbformat": 4,
    "cells": [
        {
            "cell_type": "markdown",
            "source": [
                "1. Напишіть запит для отримання назв та номерів всіх відділень, що знаходяться у Далласі."
            ],
            "metadata": {
                "azdata_cell_guid": "44f61937-6023-4de4-89a1-16cfcf8ddd9e"
            }
        },
        {
            "cell_type": "code",
            "source": [
                ""
            ],
            "metadata": {
                "azdata_cell_guid": "69324311-c0a1-4072-b476-e419fa7385a2"
            },
            "outputs": [],
            "execution_count": null
        },
        {
            "cell_type": "markdown",
            "source": [
                "2. Напишіть запит для отримання повних даних про всі відділи."
            ],
            "metadata": {
                "azdata_cell_guid": "b895aded-5622-4cce-a71f-179602b53c20"
            }
        },
        {
            "cell_type": "markdown",
            "source": [
                "3. Напишіть запит для отримання номерів працівників, номерів проектів і назв робіт для працівників, які витратили НЕ найбільше часу для роботи над одним з цих проектів."
            ],
            "metadata": {
                "azdata_cell_guid": "d9a4ba1d-02ad-4936-ae94-c74f3f1c4f7d"
            }
        },
        {
            "cell_type": "markdown",
            "source": [
                "4. Напишіть запит для отримання імен, прізвищ та номерів всіх працівників, у яких друга буква імені «а»."
            ],
            "metadata": {
                "azdata_cell_guid": "6f193a31-31f6-40cb-a3bd-6e82fabda959"
            }
        },
        {
            "cell_type": "markdown",
            "source": [
                "5. Напишіть запит який видає список номерів проектів та робіт, що виконуються на цьому проекті. При цьому невідомі роботи виводити не потрібно."
            ],
            "metadata": {
                "azdata_cell_guid": "97b1582a-f616-4b58-b9ac-fa4710928455"
            }
        }
    ]
}