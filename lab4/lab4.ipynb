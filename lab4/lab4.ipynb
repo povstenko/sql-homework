{
    "metadata": {
        "kernelspec": {
            "name": "SQL",
            "display_name": "SQL",
            "language": "sql"
        },
        "language_info": {
            "name": "sql",
            "version": ""
        }
    },
    "nbformat_minor": 2,
    "nbformat": 4,
    "cells": [
        {
            "cell_type": "markdown",
            "source": [
                "## **Views**"
            ],
            "metadata": {
                "azdata_cell_guid": "3a7b5f44-bc29-49e1-b67f-e3d28c74d833"
            }
        },
        {
            "cell_type": "markdown",
            "source": [
                "1\\. Створіть представлення, яке містить дані всіх співробітників, які працюють у відділі d1."
            ],
            "metadata": {
                "azdata_cell_guid": "05af238d-7ef7-44d5-ad7d-1154d640f4af"
            }
        },
        {
            "cell_type": "markdown",
            "source": [
                "2\\. Для таблиці project створіть представлення, яке може використовуватись тими співробітниками, яким дозволено переглядати дані з цієї таблиці за винятком стовпця budget."
            ],
            "metadata": {
                "azdata_cell_guid": "110f7e17-fd75-4978-8b4b-8f17047934e8"
            }
        },
        {
            "cell_type": "markdown",
            "source": [
                "3. \n",
                "\n",
                "4."
            ],
            "metadata": {
                "azdata_cell_guid": "84a0c5a8-85e0-4a3f-b088-bebb2f08d681"
            }
        },
        {
            "cell_type": "markdown",
            "source": [
                ""
            ],
            "metadata": {
                "azdata_cell_guid": "052373ff-9385-4fae-8984-dc4efce34460"
            }
        }
    ]
}