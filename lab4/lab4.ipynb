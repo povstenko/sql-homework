{
    "metadata": {
        "kernelspec": {
            "name": "SQL",
            "display_name": "SQL",
            "language": "sql"
        },
        "language_info": {
            "name": "sql",
            "version": ""
        }
    },
    "nbformat_minor": 2,
    "nbformat": 4,
    "cells": [
        {
            "cell_type": "code",
            "source": [
                "USE [Sample]"
            ],
            "metadata": {
                "azdata_cell_guid": "b2643a8c-b999-43b0-ba52-2887c723fb9e"
            },
            "outputs": [
                {
                    "output_type": "display_data",
                    "data": {
                        "text/html": "Commands completed successfully."
                    },
                    "metadata": {}
                },
                {
                    "output_type": "display_data",
                    "data": {
                        "text/html": "Total execution time: 00:00:00.001"
                    },
                    "metadata": {}
                }
            ],
            "execution_count": 4
        },
        {
            "cell_type": "markdown",
            "source": [
                "## **Views**"
            ],
            "metadata": {
                "azdata_cell_guid": "3a7b5f44-bc29-49e1-b67f-e3d28c74d833"
            }
        },
        {
            "cell_type": "markdown",
            "source": [
                "1\\. Створіть представлення, яке містить дані всіх співробітників, які працюють у відділі d1."
            ],
            "metadata": {
                "azdata_cell_guid": "05af238d-7ef7-44d5-ad7d-1154d640f4af"
            }
        },
        {
            "cell_type": "code",
            "source": [
                "GO\r\n",
                "CREATE VIEW d1_employee (emp_no, emp_fname, emp_lname, dept_no)\r\n",
                "    AS SELECT emp_no, emp_fname, emp_lname, dept_no\r\n",
                "        FROM employee\r\n",
                "        WHERE dept_no = 'd1'\r\n",
                "\r\n",
                "GO\r\n",
                "SELECT * FROM d1_employee"
            ],
            "metadata": {
                "azdata_cell_guid": "18ca8c11-dd95-4b3c-8566-a539d3df19d3",
                "tags": []
            },
            "outputs": [
                {
                    "output_type": "error",
                    "evalue": "Msg 2714, Level 16, State 3, Procedure d1_employee, Line 1\r\nThere is already an object named 'd1_employee' in the database.",
                    "ename": "",
                    "traceback": []
                },
                {
                    "output_type": "display_data",
                    "data": {
                        "text/html": "(2 rows affected)"
                    },
                    "metadata": {}
                },
                {
                    "output_type": "display_data",
                    "data": {
                        "text/html": "Total execution time: 00:00:00.009"
                    },
                    "metadata": {}
                },
                {
                    "output_type": "execute_result",
                    "metadata": {},
                    "execution_count": 17,
                    "data": {
                        "application/vnd.dataresource+json": {
                            "schema": {
                                "fields": [
                                    {
                                        "name": "emp_no"
                                    },
                                    {
                                        "name": "emp_fname"
                                    },
                                    {
                                        "name": "emp_lname"
                                    },
                                    {
                                        "name": "dept_no"
                                    }
                                ]
                            },
                            "data": [
                                {
                                    "0": "18316",
                                    "1": "John",
                                    "2": "Barrimore",
                                    "3": "d1"
                                },
                                {
                                    "0": "28559",
                                    "1": "Sybill",
                                    "2": "Moser",
                                    "3": "d1"
                                }
                            ]
                        },
                        "text/html": [
                            "<table>",
                            "<tr><th>emp_no</th><th>emp_fname</th><th>emp_lname</th><th>dept_no</th></tr>",
                            "<tr><td>18316</td><td>John</td><td>Barrimore</td><td>d1</td></tr>",
                            "<tr><td>28559</td><td>Sybill</td><td>Moser</td><td>d1</td></tr>",
                            "</table>"
                        ]
                    }
                }
            ],
            "execution_count": 17
        },
        {
            "cell_type": "markdown",
            "source": [
                "2\\. Для таблиці project створіть представлення, яке може використовуватись тими співробітниками, яким дозволено переглядати дані з цієї таблиці за винятком стовпця budget."
            ],
            "metadata": {
                "azdata_cell_guid": "110f7e17-fd75-4978-8b4b-8f17047934e8"
            }
        },
        {
            "cell_type": "code",
            "source": [
                ""
            ],
            "metadata": {
                "azdata_cell_guid": "374008da-54c8-4c8c-b156-291f512c15ed"
            },
            "outputs": [],
            "execution_count": null
        },
        {
            "cell_type": "markdown",
            "source": [
                "3. Створіть представлення, яке містить імена та прізвища всіх співробітників, які почали працювати над проектами в другій половині 2007 року.\n",
                "\n",
                "4."
            ],
            "metadata": {
                "azdata_cell_guid": "84a0c5a8-85e0-4a3f-b088-bebb2f08d681"
            }
        },
        {
            "cell_type": "markdown",
            "source": [
                ""
            ],
            "metadata": {
                "azdata_cell_guid": "052373ff-9385-4fae-8984-dc4efce34460"
            }
        }
    ]
}